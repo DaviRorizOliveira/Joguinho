{
 "cells": [
  {
   "cell_type": "code",
   "execution_count": 17,
   "metadata": {},
   "outputs": [],
   "source": [
    "class planta:\n",
    "\n",
    "    def __init__(self,plant,tipos):\n",
    "        self.plant = plant\n",
    "        self.tipos = tipos\n",
    "    \n",
    "    def plantar(self, tipo):\n",
    "        while self.plant.get(tipo):\n",
    "            tipo = tipo + 10\n",
    "        \n",
    "        a = [0,0,0,0]\n",
    "        self.tipos.append(tipo)\n",
    "        self.plant[tipo] = a\n",
    "\n",
    "    def atualiza(self, chuva):\n",
    "            \n",
    "        for i in self.tipos:\n",
    "            self.plant[i][0] = self.plant[i][0] + 1\n",
    "            \n",
    "            if chuva == 0:\n",
    "                self.plant[i][1] = self.plant[i][1] + 1\n",
    "                self.plant[i][2] = 0\n",
    "            else:\n",
    "                self.plant[i][3] = self.plant[i][3] + 1\n",
    "                \n",
    "            \n",
    "            \n",
    "        \n",
    "\n",
    "\n",
    "    def imprime_planta(self):\n",
    "        print(self.plant)\n",
    "        print(self.tipos)\n",
    "    \n",
    "   \n"
   ]
  },
  {
   "cell_type": "code",
   "execution_count": 20,
   "metadata": {},
   "outputs": [
    {
     "name": "stdout",
     "output_type": "stream",
     "text": [
      "{1: [1, 1, 0, 0], 11: [1, 1, 0, 0]}\n",
      "[1, 11]\n",
      "{1: [2, 1, 0, 1], 11: [2, 1, 0, 1]}\n",
      "[1, 11]\n"
     ]
    }
   ],
   "source": [
    "p = planta({ }, [ ])\n",
    "\n",
    "p.plantar(1)\n",
    "\n",
    "p.plantar(1)\n",
    "\n",
    "p.atualiza(0)\n",
    "\n",
    "p.imprime_planta()\n",
    "\n",
    "p.atualiza(1)\n",
    "\n",
    "p.imprime_planta()\n"
   ]
  },
  {
   "cell_type": "code",
   "execution_count": 32,
   "metadata": {},
   "outputs": [
    {
     "data": {
      "text/plain": [
       "{' ': 0, 'Ola': 1}"
      ]
     },
     "execution_count": 32,
     "metadata": {},
     "output_type": "execute_result"
    }
   ],
   "source": [
    "dic = {\" \": 0}\n",
    "num = 0\n",
    "tipo = \"Ola\"\n",
    "t = tipo\n",
    "while dic.get(t):\n",
    "    num = num + 1\n",
    "    t = tipo\n",
    "    t = t + str(num)\n",
    "\n",
    "tipo = t\n",
    "dic[tipo] = 1\n",
    "dic"
   ]
  },
  {
   "cell_type": "code",
   "execution_count": 8,
   "metadata": {},
   "outputs": [
    {
     "data": {
      "text/plain": [
       "{'Tokyo': 3, 'Los Angeles': 4, 'Sao Paulo': [2, 4]}"
      ]
     },
     "execution_count": 8,
     "metadata": {},
     "output_type": "execute_result"
    }
   ],
   "source": [
    "dick = {\"Tokyo\" : 3, \"Los Angeles\" : 4, \"Sao Paulo\" : [2,3]}\n",
    "\n",
    "dick[\"Sao Paulo\"][1] = 4\n",
    "\n",
    "dick\n"
   ]
  },
  {
   "cell_type": "code",
   "execution_count": null,
   "metadata": {},
   "outputs": [],
   "source": []
  }
 ],
 "metadata": {
  "kernelspec": {
   "display_name": "Python 3",
   "language": "python",
   "name": "python3"
  },
  "language_info": {
   "codemirror_mode": {
    "name": "ipython",
    "version": 3
   },
   "file_extension": ".py",
   "mimetype": "text/x-python",
   "name": "python",
   "nbconvert_exporter": "python",
   "pygments_lexer": "ipython3",
   "version": "3.10.11"
  },
  "orig_nbformat": 4
 },
 "nbformat": 4,
 "nbformat_minor": 2
}
