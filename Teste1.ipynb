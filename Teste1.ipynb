{
 "cells": [
  {
   "cell_type": "code",
   "execution_count": 38,
   "metadata": {},
   "outputs": [],
   "source": [
    "from random import randrange\n",
    "\n",
    "class planta:\n",
    "\n",
    "    def __init__(self,plant):\n",
    "        # O atributo abaixo recebe o código de uma planta como chave e uma lista\n",
    "        #com quatro ints. Os significados dos valores seguem são os seguintes:\n",
    "        #1. Dias desde que foi plantado\n",
    "        #2. Dias em que a planta pegou chuva\n",
    "        #3. Dias sem ser regada\n",
    "        #4. Dias após a planta estar pronta para ser colhida\n",
    "        self.plant = plant\n",
    "    \n",
    "    def plantar(self, tipo):\n",
    "        while self.plant.get(tipo):\n",
    "            tipo = tipo + 10\n",
    "        \n",
    "        a = [0,0,0,0]\n",
    "        self.plant[tipo] = a\n",
    "\n",
    "    def atualiza(self, chuva):\n",
    "            \n",
    "        for i in self.plant.keys():\n",
    "            self.plant[i][0] = self.plant[i][0] + 1\n",
    "            \n",
    "            if chuva == 0:\n",
    "                self.plant[i][1] = self.plant[i][1] + 1\n",
    "                self.plant[i][2] = 0\n",
    "            else:\n",
    "                self.plant[i][2] = self.plant[i][3] + 1\n",
    "                \n",
    "    def regar(self):\n",
    "        for i in self.plant.keys():\n",
    "            self.plant[i][2] = 0 \n",
    "\n",
    "    def colher(self,tipo):\n",
    "        self.plant.pop(tipo)\n",
    "        return randrange(1, 6)\n",
    "        \n",
    "\n",
    "    def imprime_planta(self):\n",
    "        print(self.plant)\n",
    "    \n",
    "   \n"
   ]
  },
  {
   "cell_type": "code",
   "execution_count": 42,
   "metadata": {},
   "outputs": [
    {
     "name": "stdout",
     "output_type": "stream",
     "text": [
      "{2: [2, 1, 0, 0]}\n"
     ]
    },
    {
     "data": {
      "text/plain": [
       "3"
      ]
     },
     "execution_count": 42,
     "metadata": {},
     "output_type": "execute_result"
    }
   ],
   "source": [
    "p = planta({ })\n",
    "\n",
    "p.plantar(1)\n",
    "\n",
    "p.plantar(2)\n",
    "\n",
    "p.atualiza(0)\n",
    "\n",
    "p.atualiza(1)\n",
    "\n",
    "p.regar()\n",
    "\n",
    "a = p.colher(1)\n",
    "\n",
    "p.imprime_planta()\n",
    "\n",
    "a"
   ]
  },
  {
   "cell_type": "code",
   "execution_count": 32,
   "metadata": {},
   "outputs": [
    {
     "data": {
      "text/plain": [
       "{' ': 0, 'Ola': 1}"
      ]
     },
     "execution_count": 32,
     "metadata": {},
     "output_type": "execute_result"
    }
   ],
   "source": [
    "dic = {\" \": 0}\n",
    "num = 0\n",
    "tipo = \"Ola\"\n",
    "t = tipo\n",
    "while dic.get(t):\n",
    "    num = num + 1\n",
    "    t = tipo\n",
    "    t = t + str(num)\n",
    "\n",
    "tipo = t\n",
    "dic[tipo] = 1\n",
    "dic"
   ]
  },
  {
   "cell_type": "code",
   "execution_count": 18,
   "metadata": {},
   "outputs": [
    {
     "data": {
      "text/plain": [
       "{'Los Angeles': 4, 'Sao Paulo': [2, 4]}"
      ]
     },
     "execution_count": 18,
     "metadata": {},
     "output_type": "execute_result"
    }
   ],
   "source": [
    "dick = {\"Tokyo\" : 3, \"Los Angeles\" : 4, \"Sao Paulo\" : [2,3]}\n",
    "\n",
    "dick[\"Sao Paulo\"][1] = 4\n",
    "\n",
    "dick.pop(\"Tokyo\")\n",
    "\n",
    "dick\n"
   ]
  },
  {
   "cell_type": "code",
   "execution_count": null,
   "metadata": {},
   "outputs": [],
   "source": []
  }
 ],
 "metadata": {
  "kernelspec": {
   "display_name": "Python 3",
   "language": "python",
   "name": "python3"
  },
  "language_info": {
   "codemirror_mode": {
    "name": "ipython",
    "version": 3
   },
   "file_extension": ".py",
   "mimetype": "text/x-python",
   "name": "python",
   "nbconvert_exporter": "python",
   "pygments_lexer": "ipython3",
   "version": "3.10.6"
  },
  "orig_nbformat": 4
 },
 "nbformat": 4,
 "nbformat_minor": 2
}
